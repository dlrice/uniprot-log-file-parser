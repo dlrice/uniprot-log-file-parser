{
 "cells": [
  {
   "cell_type": "code",
   "execution_count": 9,
   "metadata": {},
   "outputs": [],
   "source": [
    "import re\n",
    "regex = re.compile(r'\\d{1,3}\\.\\d{1,3}\\.\\d{1,3}\\.\\d{1,3}')\n",
    "with open('test2.log') as i, open('test2.scrambed.log', 'w') as o:\n",
    "    for line in i:\n",
    "        line = regex.sub(\"123.123.123.123\", line)\n",
    "        o.write(line)"
   ]
  },
  {
   "cell_type": "code",
   "execution_count": 10,
   "metadata": {},
   "outputs": [
    {
     "name": "stdout",
     "output_type": "stream",
     "text": [
      "Untitled.ipynb          \u001b[1m\u001b[36mout\u001b[m\u001b[m                     test2.scrambed.log\r\n",
      "access_2019-02-11.log   test.log                \u001b[1m\u001b[36muniprot_log_file_parser\u001b[m\u001b[m\r\n",
      "\u001b[31mconfig.sh\u001b[m\u001b[m               test.scrambed.log\r\n",
      "\u001b[1m\u001b[36mnotebooks\u001b[m\u001b[m               test2.log\r\n"
     ]
    }
   ],
   "source": [
    "!ls"
   ]
  },
  {
   "cell_type": "code",
   "execution_count": null,
   "metadata": {},
   "outputs": [],
   "source": []
  }
 ],
 "metadata": {
  "kernelspec": {
   "display_name": "Python 3",
   "language": "python",
   "name": "python3"
  },
  "language_info": {
   "codemirror_mode": {
    "name": "ipython",
    "version": 3
   },
   "file_extension": ".py",
   "mimetype": "text/x-python",
   "name": "python",
   "nbconvert_exporter": "python",
   "pygments_lexer": "ipython3",
   "version": "3.7.9"
  }
 },
 "nbformat": 4,
 "nbformat_minor": 4
}
